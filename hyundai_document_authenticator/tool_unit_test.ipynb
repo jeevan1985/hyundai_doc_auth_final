{
 "cells": [
  {
   "cell_type": "markdown",
   "metadata": {},
   "source": [
    "# tool_unit_test.ipynb — Focused Unit Tests (No External Side Effects) ✨\n",
    "\n",
    "This notebook provides focused, unit-level tests for the core utilities in this repository.\n",
    "It emphasizes dependency injection (e.g., for file copying) and avoids external side effects\n",
    "such as database writes. The goal is to validate behavior quickly and locally.\n",
    "\n",
    "Guidelines:\n",
    "- Keep tests deterministic and fast.\n",
    "- Avoid network/DB side effects.\n",
    "- Use temporary directories/files.\n",
    "- Use dependency injection (e.g., copier) for IO seams.\n",
    "\n",
    "Note: Database-related utilities are intentionally not exercised here. Consider separate,\n",
    "environment-driven integration tests for those paths. 🛡️\n"
   ]
  },
  {
   "cell_type": "code",
   "execution_count": 1,
   "metadata": {},
   "outputs": [
    {
     "name": "stderr",
     "output_type": "stream",
     "text": [
      "[INFO] Loading faiss with AVX2 support.\n",
      "[INFO] Successfully loaded faiss with AVX2 support.\n"
     ]
    }
   ],
   "source": [
    "# Environment and imports\n",
    "from __future__ import annotations\n",
    "\n",
    "import sys\n",
    "import json\n",
    "import logging\n",
    "from pathlib import Path\n",
    "from typing import Any, Callable, Dict, List, Optional, Tuple, Union\n",
    "import tempfile\n",
    "import shutil\n",
    "\n",
    "# Set project root for imports\n",
    "PROJECT_ROOT = Path.cwd()\n",
    "if str(PROJECT_ROOT) not in sys.path:\n",
    "    sys.path.insert(0, str(PROJECT_ROOT))\n",
    "\n",
    "# Configure logging for test visibility\n",
    "logging.basicConfig(level=logging.INFO, format='[%(levelname)s] %(message)s')\n",
    "\n",
    "# Imports from the code-under-test\n",
    "from core_engine.image_similarity_system.utils import (\n",
    "    get_image_metadata,\n",
    "    image_path_generator,\n",
    "    save_similar_images_to_folder,\n",
    "    convert_numpy_to_native_python,\n",
    ")\n",
    "\n",
    "# Image creation helper (uses PIL for simplicity; fallback to OpenCV if needed)\n",
    "def create_temp_image(path: Union[str, Path], size: Tuple[int, int] = (64, 48), color=(255, 0, 0)) -> None:\n",
    "    \"\"\"Create a simple RGB image for testing.\n",
    "\n",
    "    Args:\n",
    "        path (Union[str, Path]): Destination path.\n",
    "        size (Tuple[int, int]): (width, height).\n",
    "        color (tuple): RGB color tuple.\n",
    "    \"\"\"\n",
    "    try:\n",
    "        from PIL import Image\n",
    "        img = Image.new('RGB', size, color)\n",
    "        img.save(str(path))\n",
    "    except Exception:\n",
    "        # Fallback to OpenCV if PIL is unavailable\n",
    "        import numpy as np\n",
    "        import cv2\n",
    "        arr = np.zeros((size[1], size[0], 3), dtype=np.uint8)\n",
    "        arr[:, :] = (color[2], color[1], color[0])  # BGR\n",
    "        cv2.imwrite(str(path), arr)\n"
   ]
  },
  {
   "cell_type": "markdown",
   "metadata": {},
   "source": [
    "## Test 1: get_image_metadata — non-existent and valid image paths 📐\n"
   ]
  },
  {
   "cell_type": "code",
   "execution_count": 2,
   "metadata": {},
   "outputs": [
    {
     "name": "stderr",
     "output_type": "stream",
     "text": [
      "[WARNING] get_image_metadata: File not found at this_file_does_not_exist.png\n"
     ]
    },
    {
     "name": "stdout",
     "output_type": "stream",
     "text": [
      "Missing file metadata: {'dimensions_str': 'N/A', 'size_bytes': -1}\n",
      "Valid file metadata: {'dimensions_str': '80 x 60', 'size_bytes': 150}\n"
     ]
    }
   ],
   "source": [
    "# Non-existent path should return safe defaults\n",
    "meta_missing = get_image_metadata('this_file_does_not_exist.png')\n",
    "assert isinstance(meta_missing, dict)\n",
    "assert meta_missing['dimensions_str'] == 'N/A'\n",
    "assert meta_missing['size_bytes'] == -1\n",
    "print('Missing file metadata:', meta_missing)\n",
    "\n",
    "# Valid image should return dimensions and size\n",
    "with tempfile.TemporaryDirectory() as td:\n",
    "    tmp_dir = Path(td)\n",
    "    img_path = tmp_dir / 'test_image.png'\n",
    "    create_temp_image(img_path, size=(80, 60))\n",
    "\n",
    "    meta = get_image_metadata(str(img_path))\n",
    "    assert meta['dimensions_str'] in ('80 x 60', '60 x 80'), 'Unexpected dimensions string'\n",
    "    assert meta['size_bytes'] > 0\n",
    "    print('Valid file metadata:', meta)\n"
   ]
  },
  {
   "cell_type": "markdown",
   "metadata": {},
   "source": [
    "## Test 2: save_similar_images_to_folder — dependency injection for copier 📦\n",
    "Use the new `copier` parameter to avoid real filesystem copies and validate behavior.\n"
   ]
  },
  {
   "cell_type": "code",
   "execution_count": 3,
   "metadata": {},
   "outputs": [
    {
     "name": "stdout",
     "output_type": "stream",
     "text": [
      "Copier calls: [(WindowsPath('C:/Users/jeeb/AppData/Local/Temp/tmpr7qkr35t/query.png'), WindowsPath('C:/Users/jeeb/AppData/Local/Temp/tmpr7qkr35t/out/_query_image_source/query.png')), (WindowsPath('C:/Users/jeeb/AppData/Local/Temp/tmpr7qkr35t/similar_1.png'), WindowsPath('C:/Users/jeeb/AppData/Local/Temp/tmpr7qkr35t/out/rank_001_similar_1.png')), (WindowsPath('C:/Users/jeeb/AppData/Local/Temp/tmpr7qkr35t/similar_2.png'), WindowsPath('C:/Users/jeeb/AppData/Local/Temp/tmpr7qkr35t/out/rank_002_similar_2.png'))]\n",
      "JSON summary path: C:\\Users\\jeeb\\AppData\\Local\\Temp\\tmpr7qkr35t\\out\\summary.json\n",
      "Mapping count: 3 Missing files: 0\n"
     ]
    }
   ],
   "source": [
    "# Fake copier that records calls but does not perform IO\n",
    "copier_calls: List[Tuple[Path, Path]] = []\n",
    "def fake_copier(src: Union[str, Path], dst: Union[str, Path]) -> None:\n",
    "    copier_calls.append((Path(src), Path(dst)))\n",
    "\n",
    "config = {\n",
    "    'search_task': {\n",
    "        'copy_query_image_to_output': True,\n",
    "        'copy_similar_images_to_output': True,\n",
    "        'save_search_summary_json': True,\n",
    "        'top_k': 2,\n",
    "        'save_query_in_separate_subfolder_if_copied': True,\n",
    "    }\n",
    "}\n",
    "\n",
    "with tempfile.TemporaryDirectory() as td:\n",
    "    tmp_dir = Path(td)\n",
    "    q_img = tmp_dir / 'query.png'\n",
    "    s1 = tmp_dir / 'similar_1.png'\n",
    "    s2 = tmp_dir / 'similar_2.png'\n",
    "    out_dir = tmp_dir / 'out'\n",
    "    create_temp_image(q_img, (50, 40))\n",
    "    create_temp_image(s1, (30, 30))\n",
    "    \n",
    "    create_temp_image(s2, (30, 30))\n",
    "\n",
    "    results = [(str(s1), 0.91), (str(s2), 0.89)]\n",
    "\n",
    "    mapping, json_path, summary, missing_count = save_similar_images_to_folder(\n",
    "        search_results=results,\n",
    "        output_folder=out_dir,\n",
    "        query_image_path=q_img,\n",
    "        config_for_summary=config,\n",
    "        search_method_actually_used='unit-test',\n",
    "        model_name_used='unit-model',\n",
    "        total_search_time_seconds=0.01,\n",
    "        json_filename='summary.json',\n",
    "        copier=fake_copier,\n",
    "    )\n",
    "\n",
    "    # Assertions: copier was invoked 1 (query) + 2 (results) = 3 times\n",
    "    assert len(copier_calls) == 3, f'Expected 3 copy calls, got {len(copier_calls)}'\n",
    "    # Summary file should be written\n",
    "    assert json_path is not None and json_path.name == 'summary.json'\n",
    "    assert isinstance(summary, dict)\n",
    "    assert missing_count == 0\n",
    "    # Mapping includes the query and both results\n",
    "    assert any('query.png' in k for k in mapping.keys())\n",
    "    assert sum('similar_' in k for k in mapping.keys()) == 2\n",
    "\n",
    "    print('Copier calls:', copier_calls)\n",
    "    print('JSON summary path:', json_path)\n",
    "    print('Mapping count:', len(mapping), 'Missing files:', missing_count)\n"
   ]
  },
  {
   "cell_type": "markdown",
   "metadata": {},
   "source": [
    "## Test 3: image_path_generator — extension filtering 🖼️\n"
   ]
  },
  {
   "cell_type": "code",
   "execution_count": 8,
   "metadata": {},
   "outputs": [
    {
     "name": "stdout",
     "output_type": "stream",
     "text": [
      "Found images: {'b.png', 'a.jpg'}\n"
     ]
    }
   ],
   "source": [
    "with tempfile.TemporaryDirectory() as td:\n",
    "    p = Path(td)\n",
    "    # Create valid and invalid files\n",
    "    valid1 = p / 'a.jpg'\n",
    "    valid2 = p / 'b.PNG'\n",
    "    invalid = p / 'c.txt'\n",
    "\n",
    "    create_temp_image(valid1, (5, 5))\n",
    "    create_temp_image(valid2, (5, 5))\n",
    "    invalid.write_text('not an image', encoding='utf-8')\n",
    "\n",
    "    found = list(image_path_generator(p, scan_subfolders=True))\n",
    "    # Case-insensitive extension filtering\n",
    "    names = {f.name.lower() for f in found}\n",
    "    assert 'a.jpg' in names and 'b.png' in names\n",
    "    assert 'c.txt' not in names\n",
    "    print('Found images:', names)"
   ]
  },
  {
   "cell_type": "markdown",
   "metadata": {},
   "source": [
    "## Test 4: convert_numpy_to_native_python — JSON serializability 🔁\n"
   ]
  },
  {
   "cell_type": "code",
   "execution_count": 11,
   "metadata": {},
   "outputs": [
    {
     "name": "stdout",
     "output_type": "stream",
     "text": [
      "Conversion succeeded and is JSON-serializable.\n",
      "converted json: {'a': 1.5, 'b': 7, 'c': [1, 2, 3], 'd': [2.5, True]}\n"
     ]
    }
   ],
   "source": [
    "import numpy as np\n",
    "payload = {\n",
    "    'a': np.float32(1.5),\n",
    "    'b': np.int32(7),\n",
    "    'c': np.array([1, 2, 3], dtype=np.int16),\n",
    "    'd': [np.float64(2.5), np.bool_(True)],\n",
    "}\n",
    "converted = convert_numpy_to_native_python(payload)\n",
    "# Should be JSON serializable\n",
    "json.dumps(converted)\n",
    "assert isinstance(converted['a'], float)\n",
    "assert isinstance(converted['b'], int)\n",
    "assert isinstance(converted['c'], list)\n",
    "assert isinstance(converted['d'][1], bool)\n",
    "print('Conversion succeeded and is JSON-serializable.')\n",
    "print ('converted json:', converted)\n"
   ]
  },
  {
   "cell_type": "markdown",
   "metadata": {},
   "source": [
    "### Notes\n",
    "- Database-related functions (e.g., save_results_to_postgresql, save_tif_search_results_to_postgresql)\n",
    "  are intentionally not executed here to avoid external side effects and environment coupling.\n",
    "- Prefer running those paths in a separate integration test notebook or a pytest suite configured\n",
    "  with a test database. 🧪\n"
   ]
  }
 ],
 "metadata": {
  "kernelspec": {
   "display_name": "Python 3",
   "language": "python",
   "name": "python3"
  },
  "language_info": {
   "codemirror_mode": {
    "name": "ipython",
    "version": 3
   },
   "file_extension": ".py",
   "mimetype": "text/x-python",
   "name": "python",
   "nbconvert_exporter": "python",
   "pygments_lexer": "ipython3",
   "version": "3.10.18"
  }
 },
 "nbformat": 4,
 "nbformat_minor": 5
}
