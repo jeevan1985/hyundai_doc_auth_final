{
 "cells": [
  {
   "cell_type": "markdown",
   "metadata": {},
   "source": [
    "# Minimal test for ImageAuthenticityClassifier"
   ]
  },
  {
   "cell_type": "code",
   "execution_count": null,
   "metadata": {},
   "outputs": [],
   "source": [
    "from PIL import Image\n",
    "from pathlib import Path\n",
    "import sys\n",
    "# Adjust path to import the module\n",
    "proj_root = Path.cwd()\n",
    "ext = proj_root / 'external'\n",
    "if str(ext) not in sys.path: sys.path.append(str(ext))\n",
    "from image_authenticity_classifier.classifier import ImageAuthenticityClassifier\n",
    "clf = ImageAuthenticityClassifier('external/image_authenticity_classifier/classifier_config.yaml')\n",
    "# Provide a few test images in a folder to try\n",
    "test_folder = Path('data_real')\n",
    "for p in test_folder.iterdir():\n",
    "    if p.suffix.lower() in {'.jpg','.jpeg','.png','.tif','.tiff'}:\n",
    "        try:\n",
    "            with Image.open(p) as img:\n",
    "                r = clf.infer(img)\n",
    "            print(p.name, r)\n",
    "        except Exception as e:\n",
    "            print('Error on', p, e)\n"
   ]
  }
 ],
 "metadata": {
  "kernelspec": {
   "display_name": "Python 3",
   "language": "python",
   "name": "python3"
  },
  "language_info": {
   "name": "python",
   "version": "3.10"
  }
 },
 "nbformat": 4,
 "nbformat_minor": 5
}
