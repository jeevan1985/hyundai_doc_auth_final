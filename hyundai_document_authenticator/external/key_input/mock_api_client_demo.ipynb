{
 "cells": [
  {
   "cell_type": "markdown",
   "metadata": {},
   "source": [
    "# Mock API Client Demo\n",
    "This notebook exercises the folder-backed mock API server.\n",
    "\n",
    "Prereqs:\n",
    "- Start the server in a separate terminal:\n",
    "\n",
    "```bash\n",
    "python mock_api_server.py \\\n",
    "  --key-table \"D:/real_data_key/filtered_rows.xlsx\" \\\n",
    "  --search-root \"D:/test_data\" \\\n",
    "  --tail-len 5 --any-depth\n",
    "```\n",
    "\n",
    "- Install deps in this Python env: `pip install requests pandas openpyxl pillow`\n"
   ]
  },
  {
   "cell_type": "code",
   "execution_count": null,
   "metadata": {},
   "outputs": [],
   "source": [
    "import json, base64, io, requests\n",
    "from pathlib import Path\n",
    "from PIL import Image\n",
    "\n",
    "ENDPOINT = \"http://127.0.0.1:5001/images\"\n",
    "FILENAME = \"N20231004THA00001\"  # change to an existing '파일명' entry\n",
    "SAVE_TO_FOLDER = True  # ask server to persist the TIFF\n"
   ]
  },
  {
   "cell_type": "markdown",
   "metadata": {},
   "source": [
    "## POST request with minimal payload (filename only)\n",
    "Server uses 'filename' to match, and pulls metadata (사업자등록번호, 수신일자, 업종명) from the key table if available.\n"
   ]
  },
  {
   "cell_type": "code",
   "execution_count": null,
   "metadata": {},
   "outputs": [],
   "source": [
    "payload = {\n",
    "    'filename': FILENAME,\n",
    "    'save_to_folder': str(SAVE_TO_FOLDER).lower(),\n",
    "}\n",
    "r = requests.post(ENDPOINT, json=payload, timeout=30)\n",
    "r.raise_for_status()\n",
    "data = r.json()\n",
    "print(json.dumps(data, ensure_ascii=False, indent=2))\n"
   ]
  },
  {
   "cell_type": "markdown",
   "metadata": {},
   "source": [
    "## Decode returned base64 and display image inline\n"
   ]
  },
  {
   "cell_type": "code",
   "execution_count": null,
   "metadata": {},
   "outputs": [],
   "source": [
    "b64 = data.get('image_b64')\n",
    "if b64:\n",
    "    raw = base64.b64decode(b64)\n",
    "    img = Image.open(io.BytesIO(raw))\n",
    "    display(img)\n",
    "else:\n",
    "    print('No image_b64 in response')\n"
   ]
  },
  {
   "cell_type": "markdown",
   "metadata": {},
   "source": [
    "## GET request variant (useful for quick checks)\n"
   ]
  },
  {
   "cell_type": "code",
   "execution_count": null,
   "metadata": {},
   "outputs": [],
   "source": [
    "params = {\n",
    "    'filename': FILENAME,\n",
    "    'save_to_folder': 'true',\n",
    "}\n",
    "r = requests.get(ENDPOINT, params=params, timeout=30)\n",
    "r.raise_for_status()\n",
    "data2 = r.json()\n",
    "print(json.dumps(data2, ensure_ascii=False, indent=2))\n"
   ]
  },
  {
   "cell_type": "markdown",
   "metadata": {},
   "source": [
    "## Build payload from key table (optional)\n",
    "If needed, construct additional fields for the request by reading a key table row matching '파일명'.\n"
   ]
  },
  {
   "cell_type": "code",
   "execution_count": null,
   "metadata": {},
   "outputs": [],
   "source": [
    "import pandas as pd\n",
    "KEY_TABLE = Path('D:/real_data_key/filtered_rows.xlsx')  # adjust as needed\n",
    "FILE_NAME_COLUMN = '파일명'\n",
    "df = pd.read_excel(KEY_TABLE) if KEY_TABLE.suffix.lower() in ('.xlsx', '.xls') else pd.read_csv(KEY_TABLE)\n",
    "row = df.loc[df[FILE_NAME_COLUMN].astype(str).str.strip() == FILENAME]\n",
    "row = row.iloc[0].to_dict() if not row.empty else {}\n",
    "extra = {}\n",
    "# Map request parameters to key table columns\n",
    "# e.g., 'comany_registration': '사업자등록번호', 'reception_date': '수신일자', 'company_name': '업종명'\n",
    "mappings = {\n",
    "    'comany_registration': '사업자등록번호',\n",
    "    'reception_date': '수신일자',\n",
    "    'company_name': '업종명',\n",
    "}\n",
    "for req_key, col in mappings.items():\n",
    "    extra[req_key] = row.get(col) if row else None\n",
    "payload2 = {'filename': FILENAME, 'save_to_folder': 'false', **extra}\n",
    "r = requests.post(ENDPOINT, json=payload2, timeout=30)\n",
    "r.raise_for_status()\n",
    "data3 = r.json()\n",
    "print(json.dumps(data3, ensure_ascii=False, indent=2))\n"
   ]
  }
 ],
 "metadata": {
  "kernelspec": {
   "display_name": "Python 3",
   "language": "python",
   "name": "python3"
  },
  "language_info": {
   "name": "python",
   "version": "3.10"
  }
 },
 "nbformat": 4,
 "nbformat_minor": 5
}