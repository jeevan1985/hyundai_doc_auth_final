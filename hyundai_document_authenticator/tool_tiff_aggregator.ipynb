{
 "cells": [
  {
   "cell_type": "markdown",
   "metadata": {},
   "source": [
    "# TIFF Combiner Notebook\n",
    "This notebook combines multiple TIFF files from a parent folder or its subfolders into single multi-page TIFF files.\n",
    "- If the parent folder contains TIFF files directly, all are combined into one TIFF named after the parent folder.\n",
    "- If the parent folder has subfolders (each with TIFF files), each subfolder's TIFFs are combined into one multi-page TIFF named after the subfolder.\n",
    "- Outputs are saved to a user-defined output directory."
   ]
  },
  {
   "cell_type": "markdown",
   "metadata": {},
   "source": [
    "## Configuration Variables\n",
    "- `tif_folder_path` : Path to the parent folder containing TIFF files or subfolders with TIFFs.\n",
    "- `output_folder_path` : Path where combined TIFF files will be saved."
   ]
  },
  {
   "cell_type": "code",
   "execution_count": 1,
   "metadata": {},
   "outputs": [
    {
     "name": "stderr",
     "output_type": "stream",
     "text": [
      "WARNING: No TIFF files found in subfolder: aggregated\n",
      "INFO: Combining 39 TIFF files in subfolder: masked (1)_pages3\n",
      "INFO: Saved combined TIFF to C:\\Users\\jeeb\\Downloads\\masked\\aggregated\\masked (1)_pages3.tif\n",
      "INFO: Combining 53 TIFF files in subfolder: masked (2)_pages6\n",
      "INFO: Saved combined TIFF to C:\\Users\\jeeb\\Downloads\\masked\\aggregated\\masked (2)_pages6.tif\n",
      "INFO: Combining 40 TIFF files in subfolder: masked (3)_pages4\n",
      "INFO: Saved combined TIFF to C:\\Users\\jeeb\\Downloads\\masked\\aggregated\\masked (3)_pages4.tif\n",
      "INFO: Combining 21 TIFF files in subfolder: masked (5)_pages2\n",
      "INFO: Saved combined TIFF to C:\\Users\\jeeb\\Downloads\\masked\\aggregated\\masked (5)_pages2.tif\n",
      "INFO: Combining 16 TIFF files in subfolder: masked(4)_pages2\n",
      "INFO: Saved combined TIFF to C:\\Users\\jeeb\\Downloads\\masked\\aggregated\\masked(4)_pages2.tif\n"
     ]
    }
   ],
   "source": [
    "# Import necessary libraries\n",
    "from PIL import Image\n",
    "import os\n",
    "from pathlib import Path\n",
    "import logging\n",
    "\n",
    "# Setup logging\n",
    "logging.basicConfig(level=logging.INFO, format='%(levelname)s: %(message)s')\n",
    "\n",
    "# Configuration variables\n",
    "tif_folder_path = r\"C:/Users/jeeb/Downloads/masked\"  # TODO: Change this to your parent folder path\n",
    "output_folder_path = r\"C:/Users/jeeb/Downloads/masked/aggregated\"  # TODO: Change this to your output folder\n",
    "\n",
    "output_dir = Path(output_folder_path)\n",
    "output_dir.mkdir(parents=True, exist_ok=True)\n",
    "\n",
    "def combine_tiffs(tiffs, output_path):\n",
    "    \"\"\"\n",
    "    Combine a list of TIFF file paths into a single multi-page TIFF.\n",
    "    :param tiffs: List of TIFF file paths (strings or Path objects)\n",
    "    :param output_path: Output TIFF file path\n",
    "    \"\"\"\n",
    "    if not tiffs:\n",
    "        logging.warning(f\"No TIFF files to combine for {output_path}\")\n",
    "        return\n",
    "    try:\n",
    "        images = [Image.open(str(t)) for t in sorted(tiffs)]  # Sorting ensures page order\n",
    "        first_img, *rest_imgs = images\n",
    "        first_img.save(output_path, save_all=True, append_images=rest_imgs)\n",
    "        logging.info(f\"Saved combined TIFF to {output_path}\")\n",
    "    except Exception as e:\n",
    "        logging.error(f\"Failed to combine TIFFs to {output_path}: {e}\")\n",
    "\n",
    "def main():\n",
    "    parent_dir = Path(tif_folder_path)\n",
    "    if not parent_dir.exists() or not parent_dir.is_dir():\n",
    "        logging.error(f\"Provided TIFF folder path '{parent_dir}' does not exist or is not a directory.\")\n",
    "        return\n",
    "\n",
    "    # Find TIFF files in parent folder (non-recursive)\n",
    "    parent_tiffs = list(parent_dir.glob('*.tif')) + list(parent_dir.glob('*.tiff'))\n",
    "\n",
    "    if parent_tiffs:\n",
    "        # Combine all TIFFs directly under parent folder\n",
    "        output_file = output_dir / (parent_dir.name + '.tif')\n",
    "        logging.info(f\"Combining {len(parent_tiffs)} TIFF files directly under parent folder...\")\n",
    "        combine_tiffs(parent_tiffs, output_file)\n",
    "    else:\n",
    "        # No TIFFs at parent level, so traverse subfolders\n",
    "        subfolders = [d for d in parent_dir.iterdir() if d.is_dir()]\n",
    "        if not subfolders:\n",
    "            logging.warning(f\"No TIFF files found in parent folder or subfolders.\")\n",
    "            return\n",
    "        for sub in sorted(subfolders):\n",
    "            sub_tiffs = list(sub.glob('*.tif')) + list(sub.glob('*.tiff'))\n",
    "            if sub_tiffs:\n",
    "                output_file = output_dir / (sub.name + '.tif')\n",
    "                logging.info(f\"Combining {len(sub_tiffs)} TIFF files in subfolder: {sub.name}\")\n",
    "                combine_tiffs(sub_tiffs, output_file)\n",
    "            else:\n",
    "                logging.warning(f\"No TIFF files found in subfolder: {sub.name}\")\n",
    "\n",
    "# Run main logic\n",
    "if __name__ == '__main__':\n",
    "    main()"
   ]
  },
  {
   "cell_type": "markdown",
   "metadata": {},
   "source": [
    "### Instructions\n",
    "- Set the `tif_folder_path` and `output_folder_path` to your actual folder paths.\n",
    "- Run the notebook to combine TIFF files as per the logic.\n",
    "- Logs will show progress, warnings, and errors.\n",
    "- Combined TIFF files will be saved in the output folder."
   ]
  }
 ],
 "metadata": {
  "kernelspec": {
   "display_name": "Python 3",
   "language": "python",
   "name": "python3"
  },
  "language_info": {
   "codemirror_mode": {
    "name": "ipython",
    "version": 3
   },
   "file_extension": ".py",
   "mimetype": "text/x-python",
   "name": "python",
   "nbconvert_exporter": "python",
   "pygments_lexer": "ipython3",
   "version": "3.10.18"
  }
 },
 "nbformat": 4,
 "nbformat_minor": 5
}
